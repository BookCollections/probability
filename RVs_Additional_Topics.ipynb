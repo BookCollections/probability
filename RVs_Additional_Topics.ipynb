{
 "metadata": {
  "name": "RVs_Additional_Topics"
 },
 "nbformat": 3,
 "nbformat_minor": 0,
 "worksheets": [
  {
   "cells": [
    {
     "cell_type": "markdown",
     "metadata": {},
     "source": [
      "<h2>Derived Distributions</h2>\n",
      "\n",
      "Consider the random variable $Y=g\\left(X\\right)\\hspace{1pt}$ where *X* is a continuous RV. Assuming the PDF of *X* is known, the PDF of *Y* can be obtained as follows:\n",
      "\n",
      "1. Calculate the CDF $F_Y\\hspace{1pt}$ of *Y* using the formula <br/><br/>\n",
      "$$F_Y\\left(y\\right) = P\\left(g\\left(X\\right)\\le y\\right) = \\int_{\\left\\\\{x \\vert g\\left(x\\right)\\le y \\right\\\\}}f_X\\left(x\\right)dx$$<br/>\n",
      "2. Differentiate to obtain the PDF of *Y*:\n",
      "\n",
      "$$f_Y\\left(y\\right) = \\frac{dF_Y}{dy}\\left(y\\right)$$"
     ]
    },
    {
     "cell_type": "markdown",
     "metadata": {},
     "source": [
      "<h3>The Linear Case</h3>\n",
      "Let *X* be a continuous RV with PDF $f_X\\hspace{1pt}$, and let\n",
      "\n",
      "$$Y= aX + b$$\n",
      "\n",
      "where *a* and *b* are scalars with $a\\ne 0\\hspace{1pt}$, then the PDF of *Y* is\n",
      "\n",
      "$$f_Y\\left(y\\right) = \\frac{1}{\\left|a\\right|}f_X\\left(\\frac{y-b}{a}\\right)$$"
     ]
    },
    {
     "cell_type": "code",
     "collapsed": false,
     "input": [],
     "language": "python",
     "metadata": {},
     "outputs": []
    }
   ],
   "metadata": {}
  }
 ]
}