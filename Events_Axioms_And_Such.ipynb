{
 "metadata": {
  "name": "Events_Axioms_And_Such"
 },
 "nbformat": 3,
 "nbformat_minor": 0,
 "worksheets": [
  {
   "cells": [
    {
     "cell_type": "markdown",
     "metadata": {},
     "source": [
      "**Set Algebra**\n",
      "\n",
      "$S \\cap \\left(T \\cup U\\right) = \\left(S \\cap T \\right) \\cup \\left(S \\cap U \\right)$\n",
      "\n",
      "$S \\cup \\left(T \\cap U \\right) = \\left(S \\cup T \\right) \\cap \\left(S \\cup U \\right)$\n",
      "\n",
      "**De Morgan's Laws**\n",
      "\n",
      "$$\\left( \\bigcup_n S_n \\right)^c = \\bigcap_n S_n^c$$\n",
      "\n",
      "Represents everything that is not in *at least one set* and in words reads as the compliment of the union of a collection of sets equals the intersection of the set compliments.\n",
      "\n",
      "$$\\left( \\bigcap_n S_n \\right)^c = \\bigcup_n S_n^c$$\n",
      "\n",
      "Represents everything that is not in all sets and in words reads as the compliment of the intersection of a collection of sets is equal to the union of the compliments."
     ]
    },
    {
     "cell_type": "markdown",
     "metadata": {},
     "source": [
      "**Probability Axioms**\n",
      "\n",
      "1. **Nonnegativity** - For every event *A*, $P(A) \\ge 0$\n",
      "2. **Additivity** - For any sequence of **disjoint** events, the probability of their union is the sum of their individual probabilities <br/> <br/>\n",
      "$$P\\left( A_1 \\cup A_2 \\cup \\ldots \\right) = P\\left(A_1\\right) + P\\left(A_2\\right) + \\ldots$$ <br/>\n",
      "3. **Normalization** - The probability of the entire sample space is equal to 1"
     ]
    },
    {
     "cell_type": "markdown",
     "metadata": {},
     "source": [
      "**Conditional Probability**\n",
      "\n",
      "$$P\\left(A \\vert B\\right) = \\frac{P\\left(A \\cap B\\right)}{P\\left(B\\right)}$$\n",
      "\n",
      "Can think of $P(B)\\hspace{1pt}$ as the fraction of the total sample space $P(\\Omega)\\hspace{1pt}$ occupied by the event $B$ and $P(A\\cap B)\\hspace{1pt}$ as the fraction of $B\\hspace{1pt}$ occupied by the event $A\\cap B\\hspace{1pt}$. **NOTE** Conditional probabilities are themselves a valid probability law and hence all statements that hold for unconditional probabilities also hold for conditional probabilities."
     ]
    },
    {
     "cell_type": "markdown",
     "metadata": {},
     "source": [
      "**Multiplication Rule**\n",
      "\n",
      "Assuming all conditioning events have positive probability, the following holds\n",
      "\n",
      "$$P\\left(\\cap_{i=1}^n A_i\\right) = P\\left(A_1\\right)P\\left(A_2 \\vert A_1 \\right) P\\left(A_3 \\vert A_1 \\cap A_2 \\right) \\ldots P\\left(A_n \\vert \\cap_{i=1}^{n-1} A_i \\right)$$\n",
      "\n",
      "Note there is nothing special about the ordering of the events in this statement. Any event, $A_i\\hspace{1 pt}$ can be used as the leading term see page 24 of text."
     ]
    },
    {
     "cell_type": "markdown",
     "metadata": {},
     "source": [
      "**Total Probability Theorem**\n",
      "Let $A_1, \\ldots, A_n\\hspace{1 pt}$ be disjoint events that form a partition of the sample space, i.e. each possible event is included in exactly one of the events $A_1, \\ldots, A_n\\hspace{1 pt}$, and assume $P(A_i)>0\\hspace{1 pt}$ for all *i*, then for any event *B*\n",
      "\n",
      "$$\\begin{eqnarray} P\\left( B \\right) &=& P\\left(A_1\\cap B\\right) + \\ldots + P\\left(A_n \\cap B\\right) \\cr\n",
      "                                &=& P\\left(A_1\\right)P\\left(B \\vert A_1\\right) + \\ldots + P\\left(A_n\\right)P\\left(B\\vert A_n\\right)\n",
      "\\end{eqnarray}$$\n",
      "\n",
      "A simple consequence of this theorem is that for a given set *A* we have the following\n",
      "\n",
      "$$P\\left(B\\right) = P\\left(A \\cap B \\right) + P\\left(A^c \\cap B \\right)$$"
     ]
    },
    {
     "cell_type": "markdown",
     "metadata": {},
     "source": [
      "**Bayes' Rule**\n",
      "\n",
      "Let $A_1, A_2, \\ldots, A_n\\hspace{1 pt}$ be **disjoint** events that form a partition of the sample space and assume that $P(A_i)>0\\hspace{1 pt}$ for all *i*, then for any event *B* such that $P(B)>0\\hspace{1 pt}$, we have\n",
      "\n",
      "$$\\begin{eqnarray}\n",
      "P\\left(A_i \\vert B \\right) &=& \\frac{P\\left(A_i\\right) P\\left(B \\vert A_i\\right)}{P\\left(B\\right)} \\cr\n",
      "&=& \\frac{P\\left(A_i\\right) P\\left(B \\vert A_i\\right)}{P\\left(A_1\\right)P\\left(B\\vert A_1\\right) + \\ldots + P\\left(A_n\\right)P\\left(B\\vert A_n\\right)}\n",
      "\\end{eqnarray}$$\n",
      "\n",
      "where the second equality is a consequence of the Total Probability Theorem. \n",
      "\n",
      "Bayes' rule is often used for **inference**. There are a number of \"causes\" that may result in a certain \"effect\". We observe the effect and wish to infer the cause. Given that the effect *B* has occurred, we wish to evaluate the probability $P(A_i\\vert B)\\hspace{1 pt}$ that the cause $A_i\\hspace{1 pt}$ is present. Refer to $P(A_i \\vert B)\\hspace{1 pt}$ as the **posterior probability** of the event $A_i\\hspace{1 pt}$ and $P(A_i)\\hspace{1 pt}$ as the **prior probability**."
     ]
    },
    {
     "cell_type": "markdown",
     "metadata": {},
     "source": [
      "**Independence**\n",
      "\n",
      "Two events *A* and *B* are defined as **independent** iff\n",
      "\n",
      "$$P\\left(A\\cap B \\right) = P\\left(A\\right)P\\left(B\\right)$$\n",
      "\n",
      "The above definition is equivalent to defining the events as independent when \n",
      "\n",
      "$$P\\left(A \\vert B\\right) = P\\left(A\\right)$$\n",
      "\n",
      "We use the first definition as it holds even when $P(B)=0 \\hspace{1 pt}$. Note that *set disjointness* does **not** imply independence. Indeed the opposite is true. Given disjoint sets *A* and *B* each with probability greater than 0, then the occurrance or non-oncurrance of either event provides complete information about the occurrance of the other event, e.g. $P(A|B) = 0\\hspace{1 pt}$, so that\n",
      "\n",
      "$$P\\left(A\\cap B \\right) = 0 \\lt P(A)P(B)$$\n",
      "\n",
      "**Several** events $A_1, A_2, \\ldots, A_n \\hspace{1pt}$ are independent if\n",
      "\n",
      "$$P\\left(\\bigcap_{i\\in S} A_i \\right) = \\prod_{i\\in S} P\\left(A_i\\right)$$\n",
      "\n",
      "for every subset *S* of $\\left\\\\{1,2,\\ldots,n\\right\\\\} \\hspace{1 pt}$ Note it is **not** enough that the condition hold for *S*, it must hold for every subset of S. \n",
      "\n",
      "**Conditional Independence**\n",
      "\n",
      "Given an event *C*, the events *A* and *B* are called **conditionally independent** if\n",
      "\n",
      "$$P\\left(A \\cap B \\vert C \\right) = P\\left(A \\vert C\\right) P\\left(B \\hspace{1pt}\\vert\\hspace{1pt} C\\right)$$\n",
      "\n",
      "The above definition is equivalent to \n",
      "\n",
      "$$P\\left(A \\cap B \\vert C\\right) = P\\left(B\\vert C\\right) P\\left(A\\vert B \\cap C\\right)$$\n",
      "\n",
      "which can be interpreted as indicating that if *C* is known to have occurred, the additional information that *B* has occurred does not change the probability of *A*. Note, unconditional independence of *A* and *B* does **not** imply conditional independence and vice versa."
     ]
    },
    {
     "cell_type": "code",
     "collapsed": false,
     "input": [],
     "language": "python",
     "metadata": {},
     "outputs": []
    }
   ],
   "metadata": {}
  }
 ]
}