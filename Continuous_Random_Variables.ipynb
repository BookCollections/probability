{
 "metadata": {
  "name": "Continuous_Random_Variables"
 },
 "nbformat": 3,
 "nbformat_minor": 0,
 "worksheets": [
  {
   "cells": [
    {
     "cell_type": "markdown",
     "metadata": {},
     "source": [
      "**Continuous Random Variables**\n",
      "\n",
      "A random variable *X* is called **continuous** if there is a nonnegative function $f_X\\hspace{1pt}$, called the **probability density function** (or PDF) such that\n",
      "\n",
      "$$P\\left(X\\in B\\right) = \\int_B f_X\\left(x\\right)dx$$\n",
      "\n",
      "for every subset *B* of the real line. The probability that the value of *X* falls within some interval is \n",
      "\n",
      "$$P\\left(a\\le X \\le b\\right) = \\int_a^b f_X\\left(x\\right)dx$$\n",
      "\n",
      "Finally, the normalization property must hold\n",
      "\n",
      "$$\\int_{-\\infty}^{\\infty} f_X\\left(x\\right)dx = 1$$"
     ]
    },
    {
     "cell_type": "markdown",
     "metadata": {},
     "source": [
      "**Expected Value**\n",
      "\n",
      "The expected value (or mean) of a continuous RV is defined by\n",
      "\n",
      "$$E\\left[X\\right] = \\int_{-\\infty}^{\\infty} x f_X\\left(x\\right)dx$$\n",
      "\n",
      "Likewise, any real-valued function, $Y=g\\left(X\\right)\\hspace{1pt}$, of a continuous RV *X*, is itself a RV (possibly discrete) whose expected value is\n",
      "\n",
      "$$E\\left[g\\left(X\\right)\\right] = \\int_{-\\infty}^{\\infty} g\\left(x\\right)f_X\\left(x\\right)dx$$"
     ]
    },
    {
     "cell_type": "markdown",
     "metadata": {},
     "source": [
      "**Variance**\n",
      "\n",
      "The variance of a continuous RV, *X* is defined by\n",
      "\n",
      "$$var\\left(X\\right) = E\\left[(X-E\\left[X\\right])^2\\right] = \\int_{-\\infty}^{\\infty} \\left(x-E\\left[X\\right]\\right)^2 f_X\\left(x\\right)dx$$\n",
      "\n",
      "which is equivalent to\n",
      "\n",
      "$$var\\left(X\\right) = E\\left[X^2\\right] - \\left(E\\left[X\\right]\\right)^2$$"
     ]
    },
    {
     "cell_type": "code",
     "collapsed": false,
     "input": [],
     "language": "python",
     "metadata": {},
     "outputs": []
    }
   ],
   "metadata": {}
  }
 ]
}