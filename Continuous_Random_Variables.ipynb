{
 "metadata": {
  "name": "Continuous_Random_Variables"
 },
 "nbformat": 3,
 "nbformat_minor": 0,
 "worksheets": [
  {
   "cells": [
    {
     "cell_type": "markdown",
     "metadata": {},
     "source": [
      "**Continuous Random Variables**\n",
      "\n",
      "A random variable *X* is called **continuous** if there is a nonnegative function $f_X\\hspace{1pt}$, called the **probability density function** (or PDF) such that\n",
      "\n",
      "$$P\\left(X\\in B\\right) = \\int_B f_X\\left(x\\right)dx$$\n",
      "\n",
      "for every subset *B* of the real line. The probability that the value of *X* falls within some interval is \n",
      "\n",
      "$$P\\left(a\\le X \\le b\\right) = \\int_a^b f_X\\left(x\\right)dx$$\n",
      "\n",
      "Finally, the normalization property must hold\n",
      "\n",
      "$$\\int_{-\\infty}^{\\infty} f_X\\left(x\\right)dx = 1$$"
     ]
    },
    {
     "cell_type": "markdown",
     "metadata": {},
     "source": [
      "**Expected Value**\n",
      "\n",
      "The expected value (or mean) of a continuous RV is defined by\n",
      "\n",
      "$$E\\left[X\\right] = \\int_{-\\infty}^{\\infty} x f_X\\left(x\\right)dx$$\n",
      "\n",
      "Likewise, any real-valued function, $Y=g\\left(X\\right)\\hspace{1pt}$, of a continuous RV *X*, is itself a RV (possibly discrete) whose expected value is\n",
      "\n",
      "$$E\\left[g\\left(X\\right)\\right] = \\int_{-\\infty}^{\\infty} g\\left(x\\right)f_X\\left(x\\right)dx$$"
     ]
    },
    {
     "cell_type": "markdown",
     "metadata": {},
     "source": [
      "**Variance**\n",
      "\n",
      "The variance of a continuous RV, *X* is defined by\n",
      "\n",
      "$$var\\left(X\\right) = E\\left[(X-E\\left[X\\right])^2\\right] = \\int_{-\\infty}^{\\infty} \\left(x-E\\left[X\\right]\\right)^2 f_X\\left(x\\right)dx$$\n",
      "\n",
      "which is equivalent to\n",
      "\n",
      "$$var\\left(X\\right) = E\\left[X^2\\right] - \\left(E\\left[X\\right]\\right)^2$$"
     ]
    },
    {
     "cell_type": "markdown",
     "metadata": {},
     "source": [
      "**Joint PDFs of Multiple Random Variables**\n",
      "\n",
      "Two random variables, *X*, and *Y* are **jointly continutuous** if there is a **joint PDF** $f_{X,Y}\\hspace{1pt}$ such that\n",
      "\n",
      "$$P\\left(\\left(X,Y\\right) \\in B\\right) = \\int \\int_{\\left(x,y\\right)\\in B} f_{X,Y}\\left(x,y\\right) dx dy$$\n",
      "\n",
      "for every subset *B* of the $R^2\\hspace{1pt}$ and the normalization property holds\n",
      "\n",
      "$$\\int_{-\\infty}^{\\infty}\\int_{-\\infty}^{\\infty} f_{X,Y}\\left(x,y\\right) dx dy = 1$$\n",
      "\n",
      "One can view $f_{X,Y}$ as the probability per unit area at $\\left(x,y\\right)$.\n",
      "\n",
      "The **marginal** PDF of *X* (and similarly for *Y*) is\n",
      "\n",
      "$$f_X\\left(x\\right) = \\int_{-\\infty}^{\\infty} f_{X,Y}\\left(x,y\\right) dy$$"
     ]
    },
    {
     "cell_type": "markdown",
     "metadata": {},
     "source": [
      "**Joint CDF**\n",
      "\n",
      "If *X* and *Y* are two continuous RVs their joint CDF is\n",
      "\n",
      "$$F_{X,Y} = P\\left(X\\le x, Y\\le y\\right) = \\int_{-\\infty}^x \\int_{-\\infty}^y f_{X,Y}\\left(s,t\\right)dtds$$\n",
      "\n",
      "Conversely, the PDF can be obtained by differentiating:\n",
      "\n",
      "$$f_{X,Y}\\left(x,y\\right) = \\frac{\\partial^2 F_{X,Y}}{\\partial x \\partial y}\\left(x,y\\right)$$"
     ]
    },
    {
     "cell_type": "markdown",
     "metadata": {},
     "source": [
      "**Expectation**\n",
      "\n",
      "If *X* and *Y* are continuous RVs, then $Z=g\\left(X,Y\\right)\\hspace{1pt}$ is also a RV with exepcted value\n",
      "\n",
      "$$E\\left[g\\left(X,Y\\right)\\right] = \\int_{-\\infty}^{\\infty}\\int_{-\\infty}^{\\infty}g\\left(x,y\\right)f_{X,Y}\\left(x,y\\right)dxdy$$\n",
      "\n",
      "where again we note that, in general, $E\\left[g\\left(x,y\\right)\\right] \\ne g\\left(E\\left[X,Y\\right]\\right)\\hspace{1pt}$ although the equality does hold for linear functions of *X* and *Y*."
     ]
    },
    {
     "cell_type": "markdown",
     "metadata": {},
     "source": [
      "**Conditioning a Continuous RV on an Event**\n",
      "\n",
      "The **conditional PDF** of a continuous RV *X*, given and **event** *A* is defined ad\n",
      "\n",
      "$$P\\left(X\\in B \\vert A\\right) = \\int_B f_{X\\vert A} \\left(x\\right) dx$$\n",
      "\n",
      "In the **special case** where the conditioning event is of the form $\\left\\\\{X \\in A\\right\\\\}\\hspace{1pt}$ we have\n",
      "\n",
      "$$f_{X\\vert \\left\\\\{X \\in A \\right\\\\}} =  \\left\\\\{ \\begin{eqnarray} \\frac{f_X\\left(x\\right)}{P\\left(X\\in A\\right)} &,& \\quad \\mbox{if} x\\in A \\cr\n",
      "0 &,& \\mbox{otherwise} \\end{eqnarray}\\right.$$\n",
      "\n",
      "An additional useful theorem is the following version of the *total probability theorem*. Let $A_1,\\ldots,A_n\\hspace{1pt}$ be *disjoint* events that form a partition of the sample space, then\n",
      "\n",
      "$$f_X\\left(x\\right) = \\sum_{i=1}^{n}P\\left(A_i\\right) f_{X\\vert A_i}\\left(x\\right)$$"
     ]
    },
    {
     "cell_type": "markdown",
     "metadata": {},
     "source": [
      "**Conditioning One RV on Another**\n",
      "\n",
      "Let *X* and *Y* be continuous RVs with joint PDF $f_{X,Y}\\hspace{1pt}$. For any *y* with $f_Y\\left(y\\right)>0\\hspace{1pt}$ the **conditional PDF** of *X* given $Y=y\\hspace{1pt}$ is\n",
      "\n",
      "$$f_{X\\vert Y} \\left(x \\vert y\\right) = \\frac{f_{X,Y}\\left(x,y\\right)}{f_Y\\left(y\\right)}$$\n",
      "\n",
      "This implies\n",
      "\n",
      "$$f_X\\left(x\\right) = \\int_{-\\infty}^{\\infty} f_Y\\left(y\\right)f_{X\\vert Y}\\left(x \\vert y\\right)dy$$\n",
      "\n",
      "The conditional PDF $f_{X\\vert Y}\\hspace{1pt}$ and the marginal PDF, $f_Y\\hspace{1pt}$, can be used to calculate the joint PDF. This approach is often used in modeling: rather than specify the joint PDF, it is easier to provide the PDF for *Y* and the conditional PDF from which the joint PDF is then obtained."
     ]
    },
    {
     "cell_type": "markdown",
     "metadata": {},
     "source": [
      "**Conditional Expectation**\n",
      "\n",
      "The conditional expectation of *X* given *Y* is \n",
      "\n",
      "$$E\\left[X \\vert Y=y\\right] = \\int_{-\\infty}^{\\infty} x f_{X\\vert Y}\\left(x,y\\right) dx$$\n",
      "\n",
      "**Total Expectation Theorem**\n",
      "\n",
      "Let $A_1, \\ldots, A_n\\hspace{1pt}$ form a partition of the sample space, then\n",
      "\n",
      "$$E\\left[X\\right] = \\sum_{i=1}^n P\\left(A_i\\right) E\\left[X \\vert A_i\\right]$$\n",
      "\n",
      "Similarly, \n",
      "\n",
      "$$E\\left[X\\right] = \\int_{-\\infty}^{\\infty} E\\left[X \\vert Y=y\\right] f_Y\\left(y\\right) dy$$"
     ]
    },
    {
     "cell_type": "markdown",
     "metadata": {},
     "source": [
      "**Independence**\n",
      "\n",
      "Two continuous RVs, *X* and *Y*, are **independent** if their joint PDF is equal to the product of their marginal PDFs **for all (x,y)**\n",
      "\n",
      "$$f_{X,Y}\\left(x,y\\right) = f_X\\left(x\\right)f_Y\\left(y\\right) \\quad \\forall \\left(x,y\\right)$$\n",
      "\n",
      "If *X* and *Y* are idependent, the following are true:\n",
      "\n",
      "$$F_{X,Y}\\left(x,y\\right) = F_X\\left(x\\right)F_Y\\left(y\\right) \\quad \\forall \\left(x,y\\right)$$\n",
      "\n",
      "where this condition is also sufficient for independence of *X* and *Y*.\n",
      "\n",
      "$$E\\left[XY\\right] = E\\left[X\\right]E\\left[Y\\right]$$"
     ]
    },
    {
     "cell_type": "code",
     "collapsed": false,
     "input": [],
     "language": "python",
     "metadata": {},
     "outputs": []
    }
   ],
   "metadata": {}
  }
 ]
}