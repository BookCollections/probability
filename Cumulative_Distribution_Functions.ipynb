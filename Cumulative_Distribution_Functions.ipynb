{
 "metadata": {
  "name": "Cumulative_Distribution_Functions"
 },
 "nbformat": 3,
 "nbformat_minor": 0,
 "worksheets": [
  {
   "cells": [
    {
     "cell_type": "markdown",
     "metadata": {},
     "source": [
      "<h1>Common Ground</h1>\n",
      "Much of the treatment of random variables (RV) makes a distinction between **discrete** and **continous** random variables. For example, discrete RVs are associated with a probability **mass** function (PMF) that is a function from a discrete value, i.e. a possible outcome, and the probability that the RV takes that outcome. Continuous RVs are associated with a probability **density** function (PDF) that is a function from any value on the real line to the probability **density** of the RV at that value (thought of as the density per unit length). \n",
      "\n",
      "The **cumulative distribution function** (CDF) is a single concept that applies to all RVs. The CDF of a RV *X*, denoted $F_X\\hspace{1pt}$ defines the probability $P\\left(X\\le x\\right)\\hspace{1pt}$$\n",
      "\n",
      "$$F_X\\left(x\\right) = P\\left(X\\le x\\right) =  \\left\\\\{ \\begin{eqnarray} \\sum_{k\\le x} p_X\\left(k\\right) &,& \\quad \\mbox{if}\\hspace{3pt} X \\hspace{2pt} \\mbox{is discrete} \\cr\n",
      "\\int_{-\\infty}^x f_X\\left(t\\right)dt&,& \\quad \\mbox{if}\\hspace{3pt} X \\hspace{2pt} \\mbox{is continuous} \\end{eqnarray}\\right.$$"
     ]
    },
    {
     "cell_type": "markdown",
     "metadata": {},
     "source": [
      "<h2>Properties of the CDF</h2>\n",
      "\n",
      "If *X* is discrete and takes integer values, the PMF and the CDF can be obtained as\n",
      "\n",
      "$$F_X\\left(k\\right) = \\sum_{i=-\\infty}^k p_X\\left(i\\right)$$\n",
      "\n",
      "$$p_X\\left(k\\right) = P\\left(X\\le k\\right) - P\\left(X \\le k-1\\right) = F_X\\left(k\\right) - F_X\\left(k-1\\right)$$\n",
      "\n",
      "for all integers *k*.\n",
      "\n",
      "If *X* is a continuous RV, the PDF and CDF can be obtained as\n",
      "\n",
      "$$F_X\\left(x\\right) = \\int_{-\\infty}^x f_X\\left(t\\right)dt$$\n",
      "\n",
      "$$f_X\\left(x\\right) = \\frac{dF_X}{dx}\\left(x\\right)$$"
     ]
    },
    {
     "cell_type": "code",
     "collapsed": false,
     "input": [],
     "language": "python",
     "metadata": {},
     "outputs": []
    }
   ],
   "metadata": {}
  }
 ]
}